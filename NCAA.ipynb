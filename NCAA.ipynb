{
 "cells": [
  {
   "cell_type": "code",
   "execution_count": 1932,
   "metadata": {
    "scrolled": true
   },
   "outputs": [
    {
     "name": "stdout",
     "output_type": "stream",
     "text": [
      "height has been deprecated.\n",
      "\n"
     ]
    }
   ],
   "source": [
    "import pandas as pd\n",
    "import numpy as np\n",
    "#Configuring settings to allow for full table\n",
    "pd.set_option('display.height', 1000)\n",
    "pd.set_option('display.max_rows', 500)\n",
    "pd.set_option('display.max_columns', 500)\n",
    "pd.set_option('display.width', 1000)\n"
   ]
  },
  {
   "cell_type": "code",
   "execution_count": 2036,
   "metadata": {},
   "outputs": [],
   "source": [
    "#Team one \n",
    "test = pd.DataFrame.from_csv('loyola.csv',sep=',')\n",
    "del test['Unnamed: 20']\n",
    "del test['Opp']\n",
    "del test['Unnamed: 1']\n",
    "test = test.fillna(test.mean())\n",
    "#Team two\n",
    "testOpp = pd.DataFrame.from_csv('miami.csv',sep=',')\n",
    "del testOpp['Unnamed: 20']\n",
    "del testOpp['Opp']\n",
    "del testOpp['Unnamed: 1']\n",
    "testOpp = testOpp.fillna(testOpp.mean())"
   ]
  },
  {
   "cell_type": "code",
   "execution_count": 2037,
   "metadata": {},
   "outputs": [
    {
     "name": "stdout",
     "output_type": "stream",
     "text": [
      "Team one max:  258\n",
      "Team two max:  275\n"
     ]
    }
   ],
   "source": [
    "#Enter how many games you would like to use in your data\n",
    "team_one_max = test.shape\n",
    "team_two_max = testOpp.shape\n",
    "print('Team one max: ',team_one_max[0])\n",
    "print('Team two max: ',team_two_max[0])\n",
    "#Cannot exceed a teams max as displayed below\n",
    "num_games = 250\n",
    "test = test[:num_games]\n",
    "testOpp = testOpp[:num_games]"
   ]
  },
  {
   "cell_type": "code",
   "execution_count": 2038,
   "metadata": {
    "collapsed": true
   },
   "outputs": [],
   "source": [
    "from sklearn.model_selection import train_test_split\n",
    "Y = test['W/L']\n",
    "X = test.drop('W/L',axis=1)\n",
    "X_train, X_test, Y_train, Y_test = train_test_split(X, Y, test_size=0.05, random_state=1)\n",
    "\n",
    "A = testOpp['W/L']\n",
    "B = testOpp.drop('W/L',axis=1)\n",
    "B_train, B_test, A_train, A_test = train_test_split(B, A, test_size=0.05, random_state=1)\n"
   ]
  },
  {
   "cell_type": "code",
   "execution_count": 2039,
   "metadata": {
    "collapsed": true
   },
   "outputs": [],
   "source": [
    "from sklearn import tree\n",
    "\n",
    "clf = tree.DecisionTreeClassifier()\n",
    "clf = clf.fit(X_train, Y_train)\n",
    "Y_pred = clf.predict(X_test)"
   ]
  },
  {
   "cell_type": "code",
   "execution_count": 2040,
   "metadata": {
    "collapsed": true
   },
   "outputs": [],
   "source": [
    "clfTwo = tree.DecisionTreeClassifier()\n",
    "clfTwo = clfTwo.fit(B_train, A_train)\n",
    "A_pred = clfTwo.predict(B_test)\n"
   ]
  },
  {
   "cell_type": "code",
   "execution_count": 2041,
   "metadata": {
    "scrolled": true
   },
   "outputs": [
    {
     "data": {
      "text/plain": [
       "0.69230769230769229"
      ]
     },
     "execution_count": 2041,
     "metadata": {},
     "output_type": "execute_result"
    }
   ],
   "source": [
    "from sklearn.metrics import accuracy_score\n",
    "accuracy_score(Y_test, Y_pred)"
   ]
  },
  {
   "cell_type": "code",
   "execution_count": 2042,
   "metadata": {},
   "outputs": [
    {
     "data": {
      "text/plain": [
       "array([[7, 1],\n",
       "       [1, 2]], dtype=int64)"
      ]
     },
     "execution_count": 2042,
     "metadata": {},
     "output_type": "execute_result"
    }
   ],
   "source": [
    "from sklearn.metrics import confusion_matrix\n",
    "conf_matrix = confusion_matrix(Y_test,Y_pred,labels=['W','L'])\n",
    "conf_matrix"
   ]
  },
  {
   "cell_type": "code",
   "execution_count": 2043,
   "metadata": {
    "collapsed": true,
    "scrolled": true
   },
   "outputs": [],
   "source": [
    "tmp = test.mean()\n",
    "teamOne = tmp.to_frame()\n",
    "teamOne = teamOne.T.reset_index().reindex(columns=['SFG','SFGA','SFG%','S3P','S3PA','S3P%','SFT','SFTA','SFT%','SORB','STRB','SAST',\n",
    "                                         'SSTL','SBLK','STOV','SPF'])\n",
    "tmpTwo =testOpp.mean()\n",
    "teamTwo = tmpTwo.to_frame()\n",
    "teamTwo = teamTwo.T.reset_index().reindex(columns=['OFG','OFGA','OFG%','O3P','O3PA','O3P%','OFT','OFTA','OFT%','OORB','OTRB','OAST','OSTL','OBLK','OTOV','OPF'])"
   ]
  },
  {
   "cell_type": "code",
   "execution_count": 2044,
   "metadata": {
    "collapsed": true
   },
   "outputs": [],
   "source": [
    "#'SFG','SFGA','SFG%' ,'S3P','S3PA','S3P%','SFT','SFTA','SFT%','SORB','STRB','SAST','SSTL' 'SBLK','STOV','SPF',\n",
    "#'OFG','OFGA','OFG%','O3P','O3PA','O3P%','OFT','OFTA','OFT%','OORB','OTRB','OAST','OSTL','OBLK','OTOV','OPF'"
   ]
  },
  {
   "cell_type": "code",
   "execution_count": 2045,
   "metadata": {
    "collapsed": true
   },
   "outputs": [],
   "source": [
    "result = pd.concat([teamOne, teamTwo], axis=1, join='inner')"
   ]
  },
  {
   "cell_type": "code",
   "execution_count": 2046,
   "metadata": {},
   "outputs": [
    {
     "data": {
      "text/html": [
       "<div>\n",
       "<style>\n",
       "    .dataframe thead tr:only-child th {\n",
       "        text-align: right;\n",
       "    }\n",
       "\n",
       "    .dataframe thead th {\n",
       "        text-align: left;\n",
       "    }\n",
       "\n",
       "    .dataframe tbody tr th {\n",
       "        vertical-align: top;\n",
       "    }\n",
       "</style>\n",
       "<table border=\"1\" class=\"dataframe\">\n",
       "  <thead>\n",
       "    <tr style=\"text-align: right;\">\n",
       "      <th></th>\n",
       "      <th>SFG</th>\n",
       "      <th>SFGA</th>\n",
       "      <th>SFG%</th>\n",
       "      <th>S3P</th>\n",
       "      <th>S3PA</th>\n",
       "      <th>S3P%</th>\n",
       "      <th>SFT</th>\n",
       "      <th>SFTA</th>\n",
       "      <th>SFT%</th>\n",
       "      <th>SORB</th>\n",
       "      <th>STRB</th>\n",
       "      <th>SAST</th>\n",
       "      <th>SSTL</th>\n",
       "      <th>SBLK</th>\n",
       "      <th>STOV</th>\n",
       "      <th>SPF</th>\n",
       "      <th>OFG</th>\n",
       "      <th>OFGA</th>\n",
       "      <th>OFG%</th>\n",
       "      <th>O3P</th>\n",
       "      <th>O3PA</th>\n",
       "      <th>O3P%</th>\n",
       "      <th>OFT</th>\n",
       "      <th>OFTA</th>\n",
       "      <th>OFT%</th>\n",
       "      <th>OORB</th>\n",
       "      <th>OTRB</th>\n",
       "      <th>OAST</th>\n",
       "      <th>OSTL</th>\n",
       "      <th>OBLK</th>\n",
       "      <th>OTOV</th>\n",
       "      <th>OPF</th>\n",
       "    </tr>\n",
       "  </thead>\n",
       "  <tbody>\n",
       "    <tr>\n",
       "      <th>0</th>\n",
       "      <td>27.156</td>\n",
       "      <td>44.698376</td>\n",
       "      <td>1.43076</td>\n",
       "      <td>7.848</td>\n",
       "      <td>14.306472</td>\n",
       "      <td>1.855864</td>\n",
       "      <td>13.432</td>\n",
       "      <td>15.856492</td>\n",
       "      <td>1.30966</td>\n",
       "      <td>9.976</td>\n",
       "      <td>26.776</td>\n",
       "      <td>12.304</td>\n",
       "      <td>5.268</td>\n",
       "      <td>3.716</td>\n",
       "      <td>13.28</td>\n",
       "      <td>16.690796</td>\n",
       "      <td>22.984</td>\n",
       "      <td>55.364</td>\n",
       "      <td>0.418116</td>\n",
       "      <td>6.316</td>\n",
       "      <td>18.88</td>\n",
       "      <td>0.33468</td>\n",
       "      <td>11.672</td>\n",
       "      <td>16.98</td>\n",
       "      <td>0.674296</td>\n",
       "      <td>8.764</td>\n",
       "      <td>29.412</td>\n",
       "      <td>11.676</td>\n",
       "      <td>5.672</td>\n",
       "      <td>3.072</td>\n",
       "      <td>11.328</td>\n",
       "      <td>17.564</td>\n",
       "    </tr>\n",
       "  </tbody>\n",
       "</table>\n",
       "</div>"
      ],
      "text/plain": [
       "      SFG       SFGA     SFG%    S3P       S3PA      S3P%     SFT       SFTA     SFT%   SORB    STRB    SAST   SSTL   SBLK   STOV        SPF     OFG    OFGA      OFG%    O3P   O3PA     O3P%     OFT   OFTA      OFT%   OORB    OTRB    OAST   OSTL   OBLK    OTOV     OPF\n",
       "0  27.156  44.698376  1.43076  7.848  14.306472  1.855864  13.432  15.856492  1.30966  9.976  26.776  12.304  5.268  3.716  13.28  16.690796  22.984  55.364  0.418116  6.316  18.88  0.33468  11.672  16.98  0.674296  8.764  29.412  11.676  5.672  3.072  11.328  17.564"
      ]
     },
     "execution_count": 2046,
     "metadata": {},
     "output_type": "execute_result"
    }
   ],
   "source": [
    "result"
   ]
  },
  {
   "cell_type": "code",
   "execution_count": 2047,
   "metadata": {},
   "outputs": [
    {
     "data": {
      "text/plain": [
       "array(['W'], dtype=object)"
      ]
     },
     "execution_count": 2047,
     "metadata": {},
     "output_type": "execute_result"
    }
   ],
   "source": [
    "victor = clf.predict(result)\n",
    "victor"
   ]
  },
  {
   "cell_type": "code",
   "execution_count": 2011,
   "metadata": {},
   "outputs": [],
   "source": [
    "tree.export_graphviz(clf, out_file='tree.dot', max_depth=None, feature_names=None, class_names=None, label='all', filled=False, leaves_parallel=False, impurity=True, node_ids=False, proportion=False, rotate=False, rounded=False, special_characters=False, precision=3)\n"
   ]
  },
  {
   "cell_type": "code",
   "execution_count": null,
   "metadata": {
    "collapsed": true
   },
   "outputs": [],
   "source": []
  }
 ],
 "metadata": {
  "kernelspec": {
   "display_name": "Python 3",
   "language": "python",
   "name": "python3"
  },
  "language_info": {
   "codemirror_mode": {
    "name": "ipython",
    "version": 3
   },
   "file_extension": ".py",
   "mimetype": "text/x-python",
   "name": "python",
   "nbconvert_exporter": "python",
   "pygments_lexer": "ipython3",
   "version": "3.6.3"
  }
 },
 "nbformat": 4,
 "nbformat_minor": 2
}
